{
 "cells": [
  {
   "cell_type": "markdown",
   "id": "b7e3d26c-bd7f-4e60-9329-9e814fad0d7d",
   "metadata": {},
   "source": [
    "# Base64 responses format\n",
    "Instead of returning URLs, you can get images as Base64 data for immediate use without downloading from a URL. Useful when you need to process or store the images directly."
   ]
  },
  {
   "cell_type": "code",
   "execution_count": null,
   "id": "d68425d1-c0e2-4579-9530-5e3782ac9a94",
   "metadata": {},
   "outputs": [],
   "source": [
    "import base64\n",
    "from PIL import Image\n",
    "import io\n",
    "\n",
    "response = client.images.generate(\n",
    "    model=\"dall-e-2\", \n",
    "    prompt=\"a white siamese cat\", \n",
    "    size=\"512x512\", \n",
    "    response_format=\"b64_json\",  # Get base64 instead of URL    \n",
    "    n=1,\n",
    ")\n",
    "\n",
    "## Convert base64 to image\n",
    "image_data = base64.b64decode(response.data[0].b64_json)\n",
    "image = Image.open(io.BytesIO(image_data))\n",
    "image.show()  # Display the image"
   ]
  },
  {
   "cell_type": "markdown",
   "id": "85417b34-0224-4671-b4cf-1e6dac9eeda8",
   "metadata": {},
   "source": [
    "# Credentials Setup\n",
    "Sets up the credentials for accessing the watsonx API. The api_key is not needed in the lab environment, and the project_id is present."
   ]
  },
  {
   "cell_type": "code",
   "execution_count": null,
   "id": "6bbdebfd-3346-4e11-8b24-7861916014c3",
   "metadata": {},
   "outputs": [],
   "source": [
    "from ibm_watsonx_ai import Credentials\n",
    "import os\n",
    "\n",
    "credentials = Credentials(\n",
    "    url=\"...\",\n",
    "    # api= \"api key\"\n",
    ")\n",
    "project_id=\"skills-network\""
   ]
  },
  {
   "cell_type": "markdown",
   "id": "1d34779f-fe71-42a0-b9ef-ed180feab616",
   "metadata": {},
   "source": [
    "# DALL-E 2 image generation\n",
    "Uses DALL-E 2 to generate an images based on a text prompt. DALL-E 2 supports generation, edits, and variations, simultaneously allowing up to 10 images."
   ]
  },
  {
   "cell_type": "code",
   "execution_count": null,
   "id": "ac15fe45-9373-4674-87f6-f0b558999c8a",
   "metadata": {},
   "outputs": [],
   "source": [
    "response = client.images.generate(\n",
    "    model=\"dall-e-2\",\n",
    "    prompt=\"prompt\",\n",
    "    size=\"1024*1024\",\n",
    "    quality=\"standard\",\n",
    "    n=1 # produce 1 pic,\n",
    ")\n",
    "\n",
    "url = repsonse.data[0].url\n",
    "display.Image(url=url, width=512)"
   ]
  },
  {
   "cell_type": "markdown",
   "id": "2d4715cd-37f3-4a12-bfac-a777e42ed7fc",
   "metadata": {},
   "source": [
    "# DALL-E 3 image gerenation\n",
    "Uses DALL-E 2 to generate an images based on a text prompt. DALL-E 3 support image generation (no edits or variations) but produces more detailed, accurate images."
   ]
  },
  {
   "cell_type": "code",
   "execution_count": null,
   "id": "ce693da2-6d22-4a61-978f-845814b9c89e",
   "metadata": {},
   "outputs": [],
   "source": [
    "response = client.images.generate(\n",
    "    model=\"dall-e-3\",\n",
    "    prompt=\"prompt\",\n",
    "    size=\"1024*1024\",\n",
    "    quality=\"standard\",\n",
    "    n=1 # produce 1 pic,\n",
    ")\n",
    "\n",
    "url = repsonse.data[0].url\n",
    "display.Image(url=url, width=512)"
   ]
  },
  {
   "cell_type": "markdown",
   "id": "ce86469e-4a9a-4d7d-b7c6-6ba3c2efdc48",
   "metadata": {},
   "source": [
    "# Effective Prompting\n",
    "Tips for crafting more efficient prompts to get better results from DALL-E models:\n",
    "1. Be specific and detailed in your descriptions\n",
    "2. Include artistic style references\n",
    "3. Specify lighting, perspective, and composition\n",
    "4. Add context or setting information "
   ]
  },
  {
   "cell_type": "code",
   "execution_count": null,
   "id": "1bb87e39-42b4-4349-8ce1-165742979a59",
   "metadata": {},
   "outputs": [],
   "source": [
    "## basic prompt\n",
    "prompt = \"a cat\"\n",
    "\n",
    "## Improved prompt\n",
    "prompt = \"a fluffy white siamese cat with blue eyes sitting on a window sill, golden hour lighting, soft shadows, shallow depth of field, professional photography style\"\n",
    "\n",
    "## Artistic style prompt\n",
    "prompt = \"“a white siamese cat in the style of a Renaissance oil painting, dramatic lighting, rich colors, detailed fur texture”"
   ]
  },
  {
   "cell_type": "markdown",
   "id": "b9263a7b-2d40-4f23-a970-fc41607b57f3",
   "metadata": {},
   "source": [
    "# File Download\n",
    "Function to download an image file from a URL if it doesn't already exist locally"
   ]
  },
  {
   "cell_type": "code",
   "execution_count": null,
   "id": "69172a9e-1bc7-40f2-bbdd-4d61f92649fc",
   "metadata": {},
   "outputs": [],
   "source": [
    "import requests\n",
    "\n",
    "def load_file(filename, url):\n",
    "    # Download file if it hasn't already exist\n",
    "    if not os.path.isfile(name):\n",
    "        print(\"Downloading file\")\n",
    "        response = requests.get(url, stream=True)\n",
    "        if response.status_code == 200:\n",
    "            with open(filename, 'wb') as f:\n",
    "                f.write(response.content)\n",
    "        else:\n",
    "            print(\"Failed to download file. Status code: \", response.status_code)\n",
    "    else:\n",
    "        print(\"File already existed\")"
   ]
  },
  {
   "cell_type": "markdown",
   "id": "9ddc70df-5a11-4577-97cf-a7cc937e83ed",
   "metadata": {},
   "source": [
    "# Image Captioning\n",
    "Loop through the images to see the text descriptions produced by the model in response to the query,\n",
    "\"Describe the photo.\""
   ]
  },
  {
   "cell_type": "code",
   "execution_count": null,
   "id": "b2a03557-a649-43de-93c5-c836c09dc8aa",
   "metadata": {},
   "outputs": [],
   "source": [
    "user_query = \"...\"\n",
    "\n",
    "for i in range(len(encoded_images)):\n",
    "    image = encoded_images[i] # 第幾張照片：[0]是第一張以此類推\n",
    "    repsonse = generate_model_response(image, user_query)\n",
    "    ## print the repsonse with the formatted description\n",
    "    print(f\"Description for image {i + 1}: {response}/n/n\")"
   ]
  },
  {
   "cell_type": "markdown",
   "id": "70baef25-c2ed-4b58-83fe-99e25b224512",
   "metadata": {},
   "source": [
    "# Image Encoding\n",
    "Encodes an image to base64 format for inclusion in the model request. This is necessary because JSON is text-based and doesn't support binary data directly."
   ]
  },
  {
   "cell_type": "code",
   "execution_count": null,
   "id": "2c2287e0-b2db-4f0c-b7a0-55a4ee38440b",
   "metadata": {},
   "outputs": [],
   "source": [
    "import base64\n",
    "import requests\n",
    "\n",
    "def encoding_images_to_base64(image_urls):\n",
    "    encoded_images=[]\n",
    "    for url in image_urls:\n",
    "        response = requests.get(url)\n",
    "        if response.status.code == 200:\n",
    "            encoded_image = base64.b64encode(response.content).decode(\"utf-8\")\n",
    "            encoded_images.append(encode_image)\n",
    "            print(type(encoded_image))\n",
    "        else:\n",
    "            print(f\"Warning: Failed to fetch image from {url} (Status code: {response.status_code})\")\n",
    "            encoded_images.append(None)\n",
    "    return encode_images"
   ]
  },
  {
   "cell_type": "markdown",
   "id": "09c46da3-c81a-4a6d-985b-e97b63ca7950",
   "metadata": {},
   "source": [
    "# Model Initialization\n",
    "Initializes the vision model with specific parameters for text generation."
   ]
  },
  {
   "cell_type": "code",
   "execution_count": null,
   "id": "4070524f-2b03-4811-aed8-4667d790869e",
   "metadata": {},
   "outputs": [],
   "source": [
    "from ibm_watsonx_ai.foundation_models.schema import TextChatParameters\n",
    "from ibm_watsonx_ai.foundation_models import ModelInference\n",
    "\n",
    "model_id = # \"選擇的模型\"\n",
    "\n",
    "params = TextChatParameters(\n",
    "    temperature = 0.2,\n",
    "    top_p = 0.5,\n",
    ")\n",
    "\n",
    "model = ModelInference(\n",
    "    model_id=model_id,\n",
    "    params=parameters,\n",
    "    credentials=credentials,\n",
    "    project_id=project_id\n",
    ")\n"
   ]
  },
  {
   "cell_type": "markdown",
   "id": "3986222e-e529-4d03-bfb7-ec0991ffb45d",
   "metadata": {},
   "source": []
  }
 ],
 "metadata": {
  "kernelspec": {
   "display_name": "Python 3 (ipykernel)",
   "language": "python",
   "name": "python3"
  },
  "language_info": {
   "codemirror_mode": {
    "name": "ipython",
    "version": 3
   },
   "file_extension": ".py",
   "mimetype": "text/x-python",
   "name": "python",
   "nbconvert_exporter": "python",
   "pygments_lexer": "ipython3",
   "version": "3.12.2"
  }
 },
 "nbformat": 4,
 "nbformat_minor": 5
}
