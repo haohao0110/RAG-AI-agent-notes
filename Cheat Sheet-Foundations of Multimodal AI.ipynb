{
 "cells": [
  {
   "cell_type": "markdown",
   "id": "cb751b09-137e-449c-85bd-443943cc4980",
   "metadata": {},
   "source": [
    "# Image Captioning\n",
    "Generate descriptive captions for images using multimodal models."
   ]
  },
  {
   "cell_type": "code",
   "execution_count": null,
   "id": "7d5832a4-8951-4066-b1a6-a04dcc559e0a",
   "metadata": {},
   "outputs": [],
   "source": [
    "def generate_image_caption(model, encoded_image):\n",
    "    \"\"\"Generate a descriptive caption for an image.\"\"\"\n",
    "    prompt = \"Please provide a detailed description of this image.\"\n",
    "    return send_multimodal_query(model, encoded_image, prompt)\n",
    "# Example usage\n",
    "caption = generate_image_caption(model, encoded_image)\n",
    "print(\"Image Caption:\", caption)"
   ]
  },
  {
   "cell_type": "markdown",
   "id": "156b2e0d-b65a-4eee-958d-187d43d768cf",
   "metadata": {},
   "source": [
    "# Image Processing\n",
    "Basic image processing and encoding for multimodal applications."
   ]
  },
  {
   "cell_type": "code",
   "execution_count": null,
   "id": "5d87bf39-c033-4566-8282-9b27e688ee1f",
   "metadata": {},
   "outputs": [],
   "source": [
    "import base64\n",
    "from PIL import Image\n",
    "from io import BytesIO\n",
    "def encode_image(image_path):\n",
    "    \"\"\"Convert image to base64 for model input.\"\"\"\n",
    "    with open(image_path, \"rb\") as image_file:\n",
    "        encoded_string = base64.b64encode(image_file.read()).decode('utf-8')\n",
    "    return encoded_string\n",
    "def process_image(image_path, target_size=(224, 224)):\n",
    "    \"\"\"Process image for model input.\"\"\"\n",
    "    image = Image.open(image_path)\n",
    "    image = image.resize(target_size)\n",
    "    return image\n",
    "# Example usage\n",
    "image_path = \"example.jpg\"\n",
    "encoded_image = encode_image(image_path)\n",
    "processed_image = process_image(image_path)"
   ]
  },
  {
   "cell_type": "markdown",
   "id": "c7c7cf4c-7604-414a-b67a-5b4a72c40bc0",
   "metadata": {},
   "source": [
    "# Multimodal model setup\t\n",
    "Basic setup for working with multimodal AI models using IBM watsonx.ai platform."
   ]
  },
  {
   "cell_type": "code",
   "execution_count": null,
   "id": "2aa2d01c-5481-4ef8-bbb1-393fc71e126b",
   "metadata": {},
   "outputs": [],
   "source": [
    "from ibm_watsonx_ai import Credentials\n",
    "from ibm_watsonx_ai.foundation_models import ModelInference\n",
    "from ibm_watsonx_ai.foundation_models.schema import TextChatParameters\n",
    "credentials = Credentials(\n",
    "    url=\"https://us-south.ml.cloud.ibm.com\",\n",
    ")\n",
    "params = TextChatParameters(\n",
    "    temperature=0.2,\n",
    "    top_p=0.5,\n",
    "    max_tokens=2000\n",
    ")\n",
    "model = ModelInference(\n",
    "    model_id=\"meta-llama/llama-3-2-90b-vision-instruct\",\n",
    "    credentials=credentials,\n",
    "    project_id=\"skills-network\",\n",
    "    params=params\n",
    ")"
   ]
  },
  {
   "cell_type": "markdown",
   "id": "6c8eed90-9834-42a5-a606-61009fb2d3c4",
   "metadata": {},
   "source": [
    "# Multimodal query\t\n",
    "Send a combined text and image query to a multimodal model."
   ]
  },
  {
   "cell_type": "code",
   "execution_count": null,
   "id": "0e199191-2f8e-441e-858d-1cda7c3061b4",
   "metadata": {},
   "outputs": [],
   "source": [
    "def send_multimodal_query(model, encoded_image, prompt):\n",
    "    \"\"\"Send combined text and image query to model.\"\"\"\n",
    "    messages = [{\n",
    "        \"role\": \"user\",\n",
    "        \"content\": [\n",
    "            {\n",
    "                \"type\": \"text\",\n",
    "                \"text\": prompt\n",
    "            },\n",
    "            {\n",
    "                \"type\": \"image_url\",\n",
    "                \"image_url\": {\n",
    "                    \"url\": f\"data:image/jpeg;base64,{encoded_image}\"\n",
    "                }\n",
    "            }\n",
    "        ]\n",
    "    }]\n",
    "    response = model.chat(messages=messages)\n",
    "    return response['choices'][0]['message']['content']\n",
    "# Example usage\n",
    "response = send_multimodal_query(model, encoded_image, prompt)\n",
    "print(\"Model Response:\", response)"
   ]
  },
  {
   "cell_type": "markdown",
   "id": "3b569bfc-3146-4b1f-ae10-fa2134115b7b",
   "metadata": {},
   "source": [
    "# Text processing\t\n",
    "Basic text processing and prompt engineering for multimodal applications.\t"
   ]
  },
  {
   "cell_type": "code",
   "execution_count": null,
   "id": "c4620653-fc3c-49ac-8e8b-91a1762828f1",
   "metadata": {},
   "outputs": [],
   "source": [
    "def create_prompt(image_description, user_query):\n",
    "    \"\"\"Create a structured prompt for multimodal analysis.\"\"\"\n",
    "    prompt = f\"\"\"\n",
    "    Analyze the following image and answer the question.\n",
    "    Image Description: {image_description}\n",
    "    User Query: {user_query}\n",
    "    Please provide a detailed response that:\n",
    "    1. Describes the image content\n",
    "    2. Answers the specific question\n",
    "    3. Provides relevant context\n",
    "    \"\"\"\n",
    "    return prompt\n",
    "# Example usage\n",
    "image_desc = \"A cat sitting on a windowsill\"\n",
    "user_question = \"What is the cat doing?\"\n",
    "prompt = create_prompt(image_desc, user_question)"
   ]
  },
  {
   "cell_type": "markdown",
   "id": "6f929241-ba37-4c35-a5f0-209b81e4e01d",
   "metadata": {},
   "source": [
    "# Visual question answering\t\n",
    "Answer questions about image content using multimodal models.\t"
   ]
  },
  {
   "cell_type": "code",
   "execution_count": null,
   "id": "8a912738-b603-463a-adc1-9163fd14fcbe",
   "metadata": {},
   "outputs": [],
   "source": [
    "def visual_question_answering(model, encoded_image, question):\n",
    "    \"\"\"Answer questions about image content.\"\"\"\n",
    "    prompt = f\"Please answer the following question about the image: {question}\"\n",
    "    return send_multimodal_query(model, encoded_image, prompt)\n",
    "# Example usage\n",
    "question = \"What color is the cat in the image?\"\n",
    "answer = visual_question_answering(model, encoded_image, question)\n",
    "print(\"Answer:\", answer)"
   ]
  }
 ],
 "metadata": {
  "kernelspec": {
   "display_name": "Python 3 (ipykernel)",
   "language": "python",
   "name": "python3"
  },
  "language_info": {
   "codemirror_mode": {
    "name": "ipython",
    "version": 3
   },
   "file_extension": ".py",
   "mimetype": "text/x-python",
   "name": "python",
   "nbconvert_exporter": "python",
   "pygments_lexer": "ipython3",
   "version": "3.12.2"
  }
 },
 "nbformat": 4,
 "nbformat_minor": 5
}
